{
 "cells": [
  {
   "cell_type": "code",
   "execution_count": 9,
   "metadata": {},
   "outputs": [],
   "source": [
    "from sklearn import tree\n",
    "from sklearn.datasets import load_iris\n",
    "import graphviz\n",
    "from sklearn.model_selection import train_test_split\n",
    "\n",
    "iris_data=load_iris()\n",
    "iris_data.data#data for the 4 attributes\n",
    "iris_data.feature_names # 4 attributes in columns\n",
    "iris_data.target #labels, classifications-classes of iris\n",
    "\n",
    "iris_tree=tree.DecisionTreeClassifier(max_depth=2)\n",
    "iris_tree=iris_tree.fit(iris_data.data, iris_data.target)\n",
    "\n",
    "# print (iris_data.DESCR)"
   ]
  },
  {
   "cell_type": "code",
   "execution_count": 8,
   "metadata": {},
   "outputs": [
    {
     "data": {
      "text/plain": [
       "array([[0.        , 0.02173913, 0.97826087]])"
      ]
     },
     "execution_count": 8,
     "metadata": {},
     "output_type": "execute_result"
    }
   ],
   "source": [
    "iris_tree.predict([[8,5,6,2]])#predict which class an iris is based on its features\n",
    "iris_tree.predict_proba([[8,5,6,2]])#predict probability of the iris being in class 0, 1, and 2"
   ]
  },
  {
   "cell_type": "code",
   "execution_count": 19,
   "metadata": {},
   "outputs": [
    {
     "name": "stdout",
     "output_type": "stream",
     "text": [
      "0.9666666666666667\n"
     ]
    }
   ],
   "source": [
    "#use some data for trainning the tree, and others for testing\n",
    "\n",
    "data_train, data_test, target_train,target_test=train_test_split(iris_data.data, \n",
    "                                                                iris_data.target, test_size=0.2, random_state=None)\n",
    "iris_tree=tree.DecisionTreeClassifier()\n",
    "iris_tree.fit(data_train, target_train)\n",
    "score=iris_tree.score(data_test, target_test)\n",
    "print(score)"
   ]
  },
  {
   "cell_type": "code",
   "execution_count": null,
   "metadata": {},
   "outputs": [],
   "source": []
  },
  {
   "cell_type": "code",
   "execution_count": null,
   "metadata": {},
   "outputs": [],
   "source": []
  }
 ],
 "metadata": {
  "kernelspec": {
   "display_name": "Python 3",
   "language": "python",
   "name": "python3"
  },
  "language_info": {
   "codemirror_mode": {
    "name": "ipython",
    "version": 3
   },
   "file_extension": ".py",
   "mimetype": "text/x-python",
   "name": "python",
   "nbconvert_exporter": "python",
   "pygments_lexer": "ipython3",
   "version": "3.7.0"
  }
 },
 "nbformat": 4,
 "nbformat_minor": 2
}

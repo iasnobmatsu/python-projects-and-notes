{
 "cells": [
  {
   "cell_type": "code",
   "execution_count": 118,
   "metadata": {},
   "outputs": [],
   "source": [
    "\n",
    "from sklearn import preprocessing, cross_validation, linear_model\n",
    "import matplotlib.pyplot as plt\n",
    "import pandas as pd\n",
    "\n",
    "\n",
    "#read data file\n",
    "energy=pd.read_excel(\"ENB2012_data.xlsx\")\n"
   ]
  },
  {
   "cell_type": "code",
   "execution_count": 119,
   "metadata": {},
   "outputs": [
    {
     "data": {
      "text/html": [
       "<div>\n",
       "<style scoped>\n",
       "    .dataframe tbody tr th:only-of-type {\n",
       "        vertical-align: middle;\n",
       "    }\n",
       "\n",
       "    .dataframe tbody tr th {\n",
       "        vertical-align: top;\n",
       "    }\n",
       "\n",
       "    .dataframe thead th {\n",
       "        text-align: right;\n",
       "    }\n",
       "</style>\n",
       "<table border=\"1\" class=\"dataframe\">\n",
       "  <thead>\n",
       "    <tr style=\"text-align: right;\">\n",
       "      <th></th>\n",
       "      <th>Relative Compactness</th>\n",
       "      <th>Surface Area</th>\n",
       "      <th>Wall Area</th>\n",
       "      <th>Roof Area</th>\n",
       "      <th>Overall Height</th>\n",
       "      <th>Orientation</th>\n",
       "      <th>Glazing Area</th>\n",
       "      <th>Glazing Area Distribution</th>\n",
       "      <th>Heating</th>\n",
       "      <th>Cooling</th>\n",
       "    </tr>\n",
       "  </thead>\n",
       "  <tbody>\n",
       "    <tr>\n",
       "      <th>0</th>\n",
       "      <td>0.98</td>\n",
       "      <td>514.5</td>\n",
       "      <td>294.0</td>\n",
       "      <td>110.25</td>\n",
       "      <td>7.0</td>\n",
       "      <td>2</td>\n",
       "      <td>0.0</td>\n",
       "      <td>0</td>\n",
       "      <td>15.55</td>\n",
       "      <td>21.33</td>\n",
       "    </tr>\n",
       "    <tr>\n",
       "      <th>1</th>\n",
       "      <td>0.98</td>\n",
       "      <td>514.5</td>\n",
       "      <td>294.0</td>\n",
       "      <td>110.25</td>\n",
       "      <td>7.0</td>\n",
       "      <td>3</td>\n",
       "      <td>0.0</td>\n",
       "      <td>0</td>\n",
       "      <td>15.55</td>\n",
       "      <td>21.33</td>\n",
       "    </tr>\n",
       "    <tr>\n",
       "      <th>2</th>\n",
       "      <td>0.98</td>\n",
       "      <td>514.5</td>\n",
       "      <td>294.0</td>\n",
       "      <td>110.25</td>\n",
       "      <td>7.0</td>\n",
       "      <td>4</td>\n",
       "      <td>0.0</td>\n",
       "      <td>0</td>\n",
       "      <td>15.55</td>\n",
       "      <td>21.33</td>\n",
       "    </tr>\n",
       "    <tr>\n",
       "      <th>3</th>\n",
       "      <td>0.98</td>\n",
       "      <td>514.5</td>\n",
       "      <td>294.0</td>\n",
       "      <td>110.25</td>\n",
       "      <td>7.0</td>\n",
       "      <td>5</td>\n",
       "      <td>0.0</td>\n",
       "      <td>0</td>\n",
       "      <td>15.55</td>\n",
       "      <td>21.33</td>\n",
       "    </tr>\n",
       "    <tr>\n",
       "      <th>4</th>\n",
       "      <td>0.90</td>\n",
       "      <td>563.5</td>\n",
       "      <td>318.5</td>\n",
       "      <td>122.50</td>\n",
       "      <td>7.0</td>\n",
       "      <td>2</td>\n",
       "      <td>0.0</td>\n",
       "      <td>0</td>\n",
       "      <td>20.84</td>\n",
       "      <td>28.28</td>\n",
       "    </tr>\n",
       "  </tbody>\n",
       "</table>\n",
       "</div>"
      ],
      "text/plain": [
       "   Relative Compactness  Surface Area  Wall Area  Roof Area  Overall Height  \\\n",
       "0                  0.98         514.5      294.0     110.25             7.0   \n",
       "1                  0.98         514.5      294.0     110.25             7.0   \n",
       "2                  0.98         514.5      294.0     110.25             7.0   \n",
       "3                  0.98         514.5      294.0     110.25             7.0   \n",
       "4                  0.90         563.5      318.5     122.50             7.0   \n",
       "\n",
       "   Orientation  Glazing Area  Glazing Area Distribution  Heating  Cooling  \n",
       "0            2           0.0                          0    15.55    21.33  \n",
       "1            3           0.0                          0    15.55    21.33  \n",
       "2            4           0.0                          0    15.55    21.33  \n",
       "3            5           0.0                          0    15.55    21.33  \n",
       "4            2           0.0                          0    20.84    28.28  "
      ]
     },
     "execution_count": 119,
     "metadata": {},
     "output_type": "execute_result"
    }
   ],
   "source": [
    "#reconstruct data file, rename columns and select x and y\n",
    "energy.head()\n",
    "energy[\"Relative Compactness\"]=energy[\"X1\"]\n",
    "energy[\"Surface Area\"]=energy[\"X2\"]\n",
    "energy[\"Wall Area\"]=energy[\"X3\"]\n",
    "energy[\"Roof Area\"]=energy[\"X4\"]\n",
    "energy[\"Overall Height\"]=energy[\"X5\"]\n",
    "energy[\"Glazing Area\"]=energy[\"X7\"]\n",
    "energy[\"Orientation\"]=energy[\"X6\"]\n",
    "energy[\"Glazing Area Distribution\"]=energy['X8']\n",
    "energy[\"Heating\"]=energy[\"Y1\"]\n",
    "energy[\"Cooling\"]=energy[\"Y2\"]\n",
    "energy=energy[[\"Relative Compactness\",\"Surface Area\",\"Wall Area\",\"Roof Area\",\"Overall Height\",\"Orientation\",\"Glazing Area\",\"Glazing Area Distribution\",\"Heating\",\"Cooling\"]]\n",
    "energy.head()"
   ]
  },
  {
   "cell_type": "code",
   "execution_count": 120,
   "metadata": {},
   "outputs": [
    {
     "data": {
      "image/png": "[encoded data removed]",
      "text/plain": [
       "<Figure size 432x288 with 2 Axes>"
      ]
     },
     "metadata": {
      "needs_background": "light"
     },
     "output_type": "display_data"
    }
   ],
   "source": [
    "#plot to visualiza data\n",
    "fig=plt.figure()\n",
    "ax1=fig.add_subplot(1,2,1)\n",
    "ax1.set_xlabel(\"Surface Area\")\n",
    "ax1.set_ylabel(\"heating load\")\n",
    "ax1.scatter(energy[\"Surface Area\"], energy[\"Heating\"], color=\"red\",s=1)\n",
    "ax2=fig.add_subplot(1,2,2)\n",
    "ax2.set_xlabel(\"Surface Area\")\n",
    "ax2.set_ylabel(\"cooling load\")\n",
    "ax2.scatter(energy[\"Surface Area\"], energy[\"Cooling\"], color=\"blue\",s=1)\n",
    "plt.show()"
   ]
  },
  {
   "cell_type": "code",
   "execution_count": 139,
   "metadata": {},
   "outputs": [
    {
     "name": "stdout",
     "output_type": "stream",
     "text": [
      "0.9103870813458479\n",
      "Relative Compactness           0.98\n",
      "Surface Area                 514.50\n",
      "Wall Area                    294.00\n",
      "Roof Area                    110.25\n",
      "Overall Height                 7.00\n",
      "Orientation                    2.00\n",
      "Glazing Area                   0.00\n",
      "Glazing Area Distribution      0.00\n",
      "Name: 0, dtype: float64\n"
     ]
    }
   ],
   "source": [
    "#preprocessing\n",
    "X=np.array(energy[[\"Relative Compactness\",\"Surface Area\",\"Wall Area\",\"Roof Area\",\"Overall Height\",\"Orientation\",\"Glazing Area\",\"Glazing Area Distribution\"]])\n",
    "y=np.array(energy[\"Heating\"])\n",
    "X=preprocessing.scale(X)\n",
    "#cross validation\n",
    "X_train, X_test, y_train,y_test=cross_validation.train_test_split(X, y, test_size=0.15)#0.15 is test sample size\n",
    "\n",
    "clf=linear_model.LinearRegression()\n",
    "clf.fit(X_train, y_train)\n",
    "print(clf.score(X_test,y_test))\n",
    "print(energy.loc[0,\"Relative Compactness\":\"Glazing Area Distribution\"])\n",
    "\n"
   ]
  },
  {
   "cell_type": "code",
   "execution_count": null,
   "metadata": {},
   "outputs": [],
   "source": []
  },
  {
   "cell_type": "code",
   "execution_count": null,
   "metadata": {},
   "outputs": [],
   "source": []
  }
 ],
 "metadata": {
  "kernelspec": {
   "display_name": "Python 3",
   "language": "python",
   "name": "python3"
  },
  "language_info": {
   "codemirror_mode": {
    "name": "ipython",
    "version": 3
   },
   "file_extension": ".py",
   "mimetype": "text/x-python",
   "name": "python",
   "nbconvert_exporter": "python",
   "pygments_lexer": "ipython3",
   "version": "3.7.0"
  }
 },
 "nbformat": 4,
 "nbformat_minor": 2
}

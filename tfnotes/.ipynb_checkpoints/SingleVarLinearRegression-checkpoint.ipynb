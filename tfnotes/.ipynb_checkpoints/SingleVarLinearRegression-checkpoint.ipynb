{
 "cells": [
  {
   "cell_type": "markdown",
   "metadata": {},
   "source": [
    "#### Linear Regression in TensorFlow ####\n",
    "- For feature x and target y, we predict y_pred=wx+b\n",
    "- Minimize cost 1/n * SUM ( y_pred[i] - y[i] )^2 for i from 0 to m(number of data points)\n",
    "- Use Gradient Descent to find optimal theta/w and b"
   ]
  },
  {
   "cell_type": "code",
   "execution_count": 1,
   "metadata": {},
   "outputs": [],
   "source": [
    "#make some random data\n",
    "import tensorflow as tf \n",
    "import numpy as np\n",
    "import pandas as pd\n",
    "import matplotlib.pyplot as plt\n",
    "\n",
    "datanum=500\n",
    "data=[]\n",
    "for i in range(0, datanum):\n",
    "    xp=np.random.normal(0.0,0.5)\n",
    "    yp=0.3*xp+0.1+np.random.normal(0.0,0.05)\n",
    "    data.append([xp,yp])\n",
    "x_train=[x for [x,y] in data]\n",
    "y_train=[y for [x,y] in data]"
   ]
  },
  {
   "cell_type": "code",
   "execution_count": 6,
   "metadata": {},
   "outputs": [
    {
     "data": {
      "text/plain": [
       "<matplotlib.collections.PathCollection at 0x12e4b0668>"
      ]
     },
     "execution_count": 6,
     "metadata": {},
     "output_type": "execute_result"
    },
    {
     "data": {
      "image/png": "[encoded data removed]",
      "text/plain": [
       "<Figure size 432x288 with 1 Axes>"
      ]
     },
     "metadata": {
      "needs_background": "light"
     },
     "output_type": "display_data"
    }
   ],
   "source": [
    "#plot data\n",
    "plt.scatter(x_train,y_train,c=\"purple\")\n"
   ]
  },
  {
   "cell_type": "code",
   "execution_count": 2,
   "metadata": {},
   "outputs": [
    {
     "name": "stdout",
     "output_type": "stream",
     "text": [
      "WARNING:tensorflow:From /anaconda3/lib/python3.7/site-packages/tensorflow/python/framework/op_def_library.py:263: colocate_with (from tensorflow.python.framework.ops) is deprecated and will be removed in a future version.\n",
      "Instructions for updating:\n",
      "Colocations handled automatically by placer.\n",
      "weight:[0.56268144]; bias:[0.]; loss:0.03135845065116882\n"
     ]
    }
   ],
   "source": [
    "#make tf vars\n",
    "# x=tf.constant(x_train,name=\"x\")\n",
    "# y=tf.constant(y_train,name=\"y\")\n",
    "w=tf.Variable(tf.random_uniform([1],-1.0,1.0), name=\"weight\")\n",
    "b=tf.Variable(tf.zeros([1]), name=\"bias\")\n",
    "y_pred=w*x_train+b\n",
    "loss=tf.reduce_mean(tf.square(y_train-y_pred), name=\"loss\")\n",
    "optimizer=tf.train.GradientDescentOptimizer(0.1)\n",
    "train=optimizer.minimize(loss, name=\"train\")\n",
    "sess=tf.Session()\n",
    "init=tf.global_variables_initializer()\n",
    "sess.run(init)\n",
    "\n",
    "#run\n",
    "print(\"weight:{}; bias:{}; loss:{}\".format(sess.run(w),sess.run(b),sess.run(loss)))\n"
   ]
  },
  {
   "cell_type": "code",
   "execution_count": 3,
   "metadata": {},
   "outputs": [
    {
     "name": "stdout",
     "output_type": "stream",
     "text": [
      "weight:[0.5349409]; bias:[0.03626589]; loss:0.021626394242048264\n",
      "weight:[0.5102227]; bias:[0.05942012]; loss:0.01621308922767639\n",
      "weight:[0.488179]; bias:[0.07418898]; loss:0.012855954468250275\n",
      "weight:[0.46850866]; bias:[0.08359658]; loss:0.010570455342531204\n",
      "weight:[0.45094848]; bias:[0.08957776]; loss:0.00890714954584837\n",
      "weight:[0.4352672]; bias:[0.09337029]; loss:0.007645062170922756\n",
      "weight:[0.4212607]; bias:[0.09576587]; loss:0.006664224900305271\n",
      "weight:[0.4087481]; bias:[0.09727077]; loss:0.0058919633738696575\n",
      "weight:[0.39756873]; bias:[0.09820867]; loss:0.005279714707285166\n",
      "weight:[0.3875798]; bias:[0.09878635]; loss:0.004792577587068081\n",
      "weight:[0.37865397]; bias:[0.09913592]; loss:0.004404262639582157\n",
      "weight:[0.37067777]; bias:[0.09934162]; loss:0.004094426520168781\n",
      "weight:[0.36354995]; bias:[0.09945717]; loss:0.003847086103633046\n",
      "weight:[0.35718012]; bias:[0.09951674]; loss:0.003649586346000433\n",
      "weight:[0.3514876]; bias:[0.09954201]; loss:0.0034918631426990032\n",
      "weight:[0.34640032]; bias:[0.0995467]; loss:0.003365897573530674\n",
      "weight:[0.3418539]; bias:[0.09953944]; loss:0.0032652912195771933\n",
      "weight:[0.33779076]; bias:[0.09952561]; loss:0.0031849376391619444\n",
      "weight:[0.33415958]; bias:[0.09950856]; loss:0.003120759502053261\n",
      "weight:[0.3309144]; bias:[0.09949032]; loss:0.003069499973207712\n",
      "weight:[0.3280142]; bias:[0.0994721]; loss:0.0030285590328276157\n",
      "weight:[0.32542226]; bias:[0.09945458]; loss:0.0029958589002490044\n",
      "weight:[0.32310587]; bias:[0.09943815]; loss:0.002969741588458419\n",
      "weight:[0.3210357]; bias:[0.09942295]; loss:0.0029488811269402504\n",
      "weight:[0.31918558]; bias:[0.09940905]; loss:0.002932219998911023\n",
      "weight:[0.31753212]; bias:[0.09939642]; loss:0.0029189125634729862\n",
      "weight:[0.3160544]; bias:[0.09938499]; loss:0.0029082833789288998\n",
      "weight:[0.31473377]; bias:[0.0993747]; loss:0.002899794140830636\n",
      "weight:[0.3135535]; bias:[0.09936545]; loss:0.0028930134139955044\n",
      "weight:[0.3124987]; bias:[0.09935715]; loss:0.0028875977732241154\n",
      "weight:[0.311556]; bias:[0.09934971]; loss:0.0028832722455263138\n",
      "weight:[0.31071356]; bias:[0.09934304]; loss:0.0028798177372664213\n",
      "weight:[0.30996063]; bias:[0.09933707]; loss:0.002877057995647192\n",
      "weight:[0.30928776]; bias:[0.09933174]; loss:0.0028748540207743645\n",
      "weight:[0.30868638]; bias:[0.09932696]; loss:0.0028730938211083412\n"
     ]
    }
   ],
   "source": [
    "\n",
    "for i in range(35):\n",
    "    sess.run(train)\n",
    "    sess.run(train)\n",
    "    print(\"weight:{}; bias:{}; loss:{}\".format(sess.run(w),sess.run(b),sess.run(loss)))\n"
   ]
  },
  {
   "cell_type": "code",
   "execution_count": 6,
   "metadata": {},
   "outputs": [
    {
     "data": {
      "text/plain": [
       "[<matplotlib.lines.Line2D at 0x12b7b9470>]"
      ]
     },
     "execution_count": 6,
     "metadata": {},
     "output_type": "execute_result"
    },
    {
     "data": {
      "image/png": "[encoded data removed]",
      "text/plain": [
       "<Figure size 432x288 with 1 Axes>"
      ]
     },
     "metadata": {
      "needs_background": "light"
     },
     "output_type": "display_data"
    }
   ],
   "source": [
    "#plot data with line\n",
    "plt.scatter(x_train,y_train,c=\"orange\")\n",
    "plt.plot(x_train, x_train*sess.run(w)+sess.run(b),c=\"purple\")\n"
   ]
  },
  {
   "cell_type": "code",
   "execution_count": 7,
   "metadata": {},
   "outputs": [],
   "source": [
    "sess.close()"
   ]
  }
 ],
 "metadata": {
  "kernelspec": {
   "display_name": "Python 3",
   "language": "python",
   "name": "python3"
  },
  "language_info": {
   "codemirror_mode": {
    "name": "ipython",
    "version": 3
   },
   "file_extension": ".py",
   "mimetype": "text/x-python",
   "name": "python",
   "nbconvert_exporter": "python",
   "pygments_lexer": "ipython3",
   "version": "3.7.0"
  }
 },
 "nbformat": 4,
 "nbformat_minor": 2
}

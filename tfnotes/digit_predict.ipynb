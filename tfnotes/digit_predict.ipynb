{
 "cells": [
  {
   "cell_type": "markdown",
   "metadata": {},
   "source": [
    "## Predict SkLearn Digits Data Using Neural Network"
   ]
  },
  {
   "cell_type": "markdown",
   "metadata": {},
   "source": [
    "#### overview digits data"
   ]
  },
  {
   "cell_type": "code",
   "execution_count": 66,
   "metadata": {},
   "outputs": [
    {
     "name": "stdout",
     "output_type": "stream",
     "text": [
      "(1797, 8, 8)\n",
      "(1797,)\n",
      "[0 1 2 3 4 5 6 7 8 9]\n",
      "[0 1 2 3 4 5 6 7 8 9]\n",
      "[0 1 2 3 4 5 6 7 8 9]\n"
     ]
    },
    {
     "data": {
      "image/png": "[encoded data removed]",
      "text/plain": [
       "<Figure size 720x216 with 30 Axes>"
      ]
     },
     "metadata": {
      "needs_background": "light"
     },
     "output_type": "display_data"
    }
   ],
   "source": [
    "import numpy as np\n",
    "import pandas as pd\n",
    "import matplotlib.pyplot as plt\n",
    "\n",
    "from sklearn import datasets\n",
    "\n",
    "digits=datasets.load_digits()\n",
    "print(digits.images.shape)\n",
    "print(digits.target.shape)\n",
    "\n",
    "#show digits\n",
    "import matplotlib.pyplot as plt\n",
    "\n",
    "print(digits.target[0:10])\n",
    "print(digits.target[10:20])\n",
    "print(digits.target[20:30])\n",
    "\n",
    "plt.figure(figsize=(10,3))\n",
    "for i in range(0,30):\n",
    "    plt.subplot(3,10,i+1)\n",
    "    plt.imshow(digits.images[i], cmap=\"PuBu\")\n"
   ]
  },
  {
   "cell_type": "markdown",
   "metadata": {},
   "source": [
    "#### Transform Data into NN format\n",
    "- X from 8*8 to 64\n",
    "- Y from 1 to 10 (One-Hot)"
   ]
  },
  {
   "cell_type": "code",
   "execution_count": 13,
   "metadata": {},
   "outputs": [
    {
     "name": "stdout",
     "output_type": "stream",
     "text": [
      "[0 1 2 3 4 5 6 7 8 9]\n",
      "     0    1    2    3    4    5    6    7    8    9\n",
      "0  1.0  0.0  0.0  0.0  0.0  0.0  0.0  0.0  0.0  0.0\n",
      "1  0.0  1.0  0.0  0.0  0.0  0.0  0.0  0.0  0.0  0.0\n",
      "2  0.0  0.0  1.0  0.0  0.0  0.0  0.0  0.0  0.0  0.0\n",
      "3  0.0  0.0  0.0  1.0  0.0  0.0  0.0  0.0  0.0  0.0\n",
      "4  0.0  0.0  0.0  0.0  1.0  0.0  0.0  0.0  0.0  0.0\n",
      "5  0.0  0.0  0.0  0.0  0.0  1.0  0.0  0.0  0.0  0.0\n",
      "6  0.0  0.0  0.0  0.0  0.0  0.0  1.0  0.0  0.0  0.0\n",
      "7  0.0  0.0  0.0  0.0  0.0  0.0  0.0  1.0  0.0  0.0\n",
      "8  0.0  0.0  0.0  0.0  0.0  0.0  0.0  0.0  1.0  0.0\n",
      "9  0.0  0.0  0.0  0.0  0.0  0.0  0.0  0.0  0.0  1.0\n"
     ]
    }
   ],
   "source": [
    "#one hot y to fit NN\n",
    "x_data=digits.images\n",
    "y_data=digits.target\n",
    "print(y_data[:10])\n",
    "from sklearn.preprocessing import OneHotEncoder\n",
    "encode=OneHotEncoder()\n",
    "y_data=y_data.reshape(-1,1)\n",
    "encode.fit(y_data)\n",
    "y_data=encode.transform(y_data).toarray()\n",
    "y_data = pd.DataFrame(y_data)\n",
    "print(y_data.head(10))"
   ]
  },
  {
   "cell_type": "code",
   "execution_count": 67,
   "metadata": {},
   "outputs": [
    {
     "data": {
      "text/plain": [
       "array([ 0.,  0.,  5., 13.,  9.,  1.,  0.,  0.,  0.,  0., 13., 15., 10.,\n",
       "       15.,  5.,  0.,  0.,  3., 15.,  2.,  0., 11.,  8.,  0.,  0.,  4.,\n",
       "       12.,  0.,  0.,  8.,  8.,  0.,  0.,  5.,  8.,  0.,  0.,  9.,  8.,\n",
       "        0.,  0.,  4., 11.,  0.,  1., 12.,  7.,  0.,  0.,  2., 14.,  5.,\n",
       "       10., 12.,  0.,  0.,  0.,  0.,  6., 13., 10.,  0.,  0.,  0.])"
      ]
     },
     "execution_count": 67,
     "metadata": {},
     "output_type": "execute_result"
    }
   ],
   "source": [
    "#Change x from 8*8 to 64\n",
    "maxnum=len(x_data)\n",
    "x_data_new=[]\n",
    "for i in range(0,maxnum):\n",
    "    x_data_new.append(x_data[i].reshape(64))\n",
    "from numpy import array\n",
    "x_data=array(x_data_new)\n",
    "x_data[0]"
   ]
  },
  {
   "cell_type": "markdown",
   "metadata": {},
   "source": [
    "#### Structure Neural Network\n",
    "- weights and biases\n",
    "- forward propogation\n",
    "- optimization and accuracy"
   ]
  },
  {
   "cell_type": "code",
   "execution_count": 16,
   "metadata": {},
   "outputs": [],
   "source": [
    "#n data\n",
    "n_hidden_1=256\n",
    "n_hidden_2=128\n",
    "n_input=64 #match x\n",
    "n_labels=10 #match y\n",
    "\n",
    "\n",
    "#x, y, weights, biases\n",
    "import tensorflow as tf\n",
    "\n",
    "x=tf.placeholder(\"float\",[None,n_input]) #None denodes any size of features\n",
    "y=tf.placeholder(\"float\",[None,n_labels])\n",
    "\n",
    "weights={\n",
    "    \"w1\":tf.Variable(tf.random_normal([n_input,n_hidden_1], stddev=0.1)),\n",
    "    \"w2\":tf.Variable(tf.random_normal([n_hidden_1,n_hidden_2],stddev=0.1)),\n",
    "    \"w3\":tf.Variable(tf.random_normal([n_hidden_2,n_labels],stddev=0.1)),\n",
    "}\n",
    "biases={\n",
    "    'b1':tf.Variable(tf.random_normal([n_hidden_1])),\n",
    "    'b2':tf.Variable(tf.random_normal([n_hidden_2])),\n",
    "    'b3':tf.Variable(tf.random_normal([n_labels])),\n",
    "    \n",
    "}\n"
   ]
  },
  {
   "cell_type": "code",
   "execution_count": 58,
   "metadata": {},
   "outputs": [],
   "source": [
    "#forward propogation\n",
    "def forwardProp(x,weights,biases):\n",
    "    layer1=tf.nn.relu(tf.add(tf.matmul(x,weights['w1']),biases['b1']))\n",
    "    layer2=tf.nn.relu(tf.add(tf.matmul(layer1,weights['w2']),biases['b2']))\n",
    "    labels=tf.matmul(layer2,weights['w3'])+biases['b3']\n",
    "    return labels\n",
    "    "
   ]
  },
  {
   "cell_type": "code",
   "execution_count": 63,
   "metadata": {},
   "outputs": [],
   "source": [
    "#prediction, cost, optimization, accuracy\n",
    "prediction=forwardProp(x,weights,biases)\n",
    "\n",
    "cost=tf.reduce_mean(tf.nn.softmax_cross_entropy_with_logits(logits=prediction,labels=y))\n",
    "optimizer=tf.train.GradientDescentOptimizer(learning_rate=0.005).minimize(cost)\n",
    "correct=tf.equal(tf.argmax(prediction,1), tf.argmax(y,1))\n",
    "accuracy=tf.reduce_mean(tf.cast(correct,\"float\"))\n",
    "\n"
   ]
  },
  {
   "cell_type": "code",
   "execution_count": 64,
   "metadata": {},
   "outputs": [
    {
     "name": "stdout",
     "output_type": "stream",
     "text": [
      "epoch 30/200, cost is 0.021307639591395856\n",
      "accuracy:0.9648148417472839\n",
      "==================================================\n",
      "epoch 60/200, cost is 0.010310940826311708\n",
      "accuracy:0.9740740656852722\n",
      "==================================================\n",
      "epoch 90/200, cost is 0.006741431904956698\n",
      "accuracy:0.9740740656852722\n",
      "==================================================\n",
      "epoch 120/200, cost is 0.00496387040708214\n",
      "accuracy:0.9740740656852722\n",
      "==================================================\n",
      "epoch 150/200, cost is 0.003910944871604443\n",
      "accuracy:0.9740740656852722\n",
      "==================================================\n",
      "epoch 180/200, cost is 0.003221627208404243\n",
      "accuracy:0.9759259223937988\n",
      "==================================================\n"
     ]
    }
   ],
   "source": [
    "#iteration\n",
    "epoch=200 #how many times to loop over the entire dataset\n",
    "batch_size=50 #step\n",
    "\n",
    "\n",
    "from sklearn.model_selection import train_test_split\n",
    "\n",
    "x_train,x_test,y_train,y_test=train_test_split(x_data,y_data,test_size=0.3)\n",
    "\n",
    "init=tf.global_variables_initializer()\n",
    "sess=tf.Session()\n",
    "sess.run(init)\n",
    "\n",
    "for e in range(epoch):\n",
    "    avgcost=0\n",
    "    batches=int(x_train.shape[0]/batch_size)\n",
    "    for b in range(batches):\n",
    "        start=b*batch_size\n",
    "        end=(b+1)*(batch_size)\n",
    "        xtemp=x_train[start:end]\n",
    "        ytemp=y_train[start:end]\n",
    "        feeds={x:xtemp,y:ytemp}\n",
    "        sess.run(optimizer,feed_dict=feeds)\n",
    "        avgcost+=sess.run(cost,feed_dict=feeds)\n",
    "    avgcost=avgcost/batches\n",
    "    if ((e+1)%40)==0:\n",
    "        print(\"epoch {}/{}, cost is {}\".format(e+1, epoch, avgcost))\n",
    "        feeds={x:x_test,y:y_test}\n",
    "        acc=sess.run(accuracy, feed_dict=feeds)\n",
    "        print(\"accuracy:{}\".format(acc))\n",
    "        print(\"==================================================\")\n",
    "sess.close()    "
   ]
  },
  {
   "cell_type": "markdown",
   "metadata": {},
   "source": [
    "#### alternative to optimize without epoches\n",
    "```\n",
    "for i in range(0,300):\n",
    "    feeds={x:x_train,y:y_train}\n",
    "    sess.run(optimizer,feed_dict=feeds)\n",
    "    if i%10==0:\n",
    "        feeds={x:x_test,y:y_test}\n",
    "        acc=sess.run(accuracy, feed_dict=feeds)\n",
    "        print(\"accuracy:{}\".format(acc))\n",
    "```"
   ]
  }
 ],
 "metadata": {
  "kernelspec": {
   "display_name": "Python 3",
   "language": "python",
   "name": "python3"
  },
  "language_info": {
   "codemirror_mode": {
    "name": "ipython",
    "version": 3
   },
   "file_extension": ".py",
   "mimetype": "text/x-python",
   "name": "python",
   "nbconvert_exporter": "python",
   "pygments_lexer": "ipython3",
   "version": "3.7.0"
  }
 },
 "nbformat": 4,
 "nbformat_minor": 2
}
